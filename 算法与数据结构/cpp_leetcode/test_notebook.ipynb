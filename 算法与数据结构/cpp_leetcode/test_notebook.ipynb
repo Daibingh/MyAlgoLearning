{
 "cells": [
  {
   "cell_type": "code",
   "execution_count": 8,
   "metadata": {},
   "outputs": [
    {
     "name": "stderr",
     "output_type": "stream",
     "text": [
      "\u001b[1minput_line_16:3:7: \u001b[0m\u001b[0;1;31merror: \u001b[0m\u001b[1mredefinition of 'Solution'\u001b[0m\n",
      "class Solution {\n",
      "\u001b[0;1;32m      ^\n",
      "\u001b[0m\u001b[1minput_line_8:3:7: \u001b[0m\u001b[0;1;30mnote: \u001b[0mprevious definition is here\u001b[0m\n",
      "class Solution {\n",
      "\u001b[0;1;32m      ^\n",
      "\u001b[0m"
     ]
    },
    {
     "ename": "Interpreter Error",
     "evalue": "",
     "output_type": "error",
     "traceback": [
      "Interpreter Error: "
     ]
    }
   ],
   "source": [
    "#include <bits/stdc++.h>\n",
    "\n",
    "using namespace std;\n",
    "\n",
    "class Solution {\n",
    "public:\n",
    "    int maxSubArray(vector<int>& nums) {\n",
    "        vector<int> dp(nums.size(), 0);  // 表示以 i 结尾的最大子序列和\n",
    "        dp[0] = nums[0];\n",
    "        int res = nums[0];\n",
    "        for (int i=1;i<nums.size();++i) {\n",
    "            dp[i] = std::max(nums[i], dp[i-1]+nums[i]);  // 递推公式：dp[i] 分两种情况：1) nums[i] 是 dp[i-1] 最大子序列的一部分；2) nums[i] 是新的开始\n",
    "            res = std::max(res, dp[i]);  // 记录最大值\n",
    "        }\n",
    "        return res;\n",
    "    }\n",
    "};\n"
   ]
  },
  {
   "cell_type": "code",
   "execution_count": 7,
   "metadata": {},
   "outputs": [
    {
     "name": "stdout",
     "output_type": "stream",
     "text": [
      "hhh\n"
     ]
    }
   ],
   "source": [
    "\n",
    "std::cout<<\"hhh\"<<endl;"
   ]
  }
 ],
 "metadata": {
  "kernelspec": {
   "display_name": "C++11",
   "language": "C++11",
   "name": "xcpp11"
  },
  "language_info": {
   "codemirror_mode": "text/x-c++src",
   "file_extension": ".cpp",
   "mimetype": "text/x-c++src",
   "name": "c++",
   "version": "11"
  }
 },
 "nbformat": 4,
 "nbformat_minor": 4
}

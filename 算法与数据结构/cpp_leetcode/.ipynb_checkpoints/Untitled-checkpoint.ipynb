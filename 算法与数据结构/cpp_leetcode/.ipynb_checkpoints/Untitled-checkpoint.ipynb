{
 "cells": [
  {
   "cell_type": "code",
   "execution_count": 5,
   "metadata": {},
   "outputs": [],
   "source": [
    "#include <bits/stdc++.h>\n",
    "\n",
    "using namespace std;"
   ]
  },
  {
   "cell_type": "code",
   "execution_count": 7,
   "metadata": {},
   "outputs": [
    {
     "name": "stderr",
     "output_type": "stream",
     "text": [
      "\u001b[1minput_line_17:4:29: \u001b[0m\u001b[0;1;31merror: \u001b[0m\u001b[1mno member named 'size' in 'std::vector<int, std::allocator<int> >'\u001b[0m\n",
      "        vector<int> dp(nums.size(), 0);  // 表示以 i 结尾的最大子序列和\n",
      "\u001b[0;1;32m                       ~~~~ ^\n",
      "\u001b[0m\u001b[1minput_line_17:5:11: \u001b[0m\u001b[0;1;31merror: \u001b[0m\u001b[1mtype 'vector<int>' does not provide a subscript operator\u001b[0m\n",
      "        dp[0] = nums[0];\n",
      "\u001b[0;1;32m        ~~^~\n",
      "\u001b[0m\u001b[1minput_line_17:5:21: \u001b[0m\u001b[0;1;31merror: \u001b[0m\u001b[1mtype 'vector<int>' does not provide a subscript operator\u001b[0m\n",
      "        dp[0] = nums[0];\n",
      "\u001b[0;1;32m                ~~~~^~\n",
      "\u001b[0m\u001b[1minput_line_17:6:23: \u001b[0m\u001b[0;1;31merror: \u001b[0m\u001b[1mtype 'vector<int>' does not provide a subscript operator\u001b[0m\n",
      "        int res = nums[0];\n",
      "\u001b[0;1;32m                  ~~~~^~\n",
      "\u001b[0m\u001b[1minput_line_17:7:29: \u001b[0m\u001b[0;1;31merror: \u001b[0m\u001b[1mno member named 'size' in 'std::vector<int, std::allocator<int> >'\u001b[0m\n",
      "        for (int i=1;i<nums.size();++i) {\n",
      "\u001b[0;1;32m                       ~~~~ ^\n",
      "\u001b[0m\u001b[1minput_line_17:8:15: \u001b[0m\u001b[0;1;31merror: \u001b[0m\u001b[1mtype 'vector<int>' does not provide a subscript operator\u001b[0m\n",
      "            dp[i] = std::max(nums[i], dp[i-1]+nums[i]);  // 递推公式：dp[i] 分两种情况：1) nums[i] 是 dp[i-1] 最大子序列的一...\n",
      "\u001b[0;1;32m            ~~^~\n",
      "\u001b[0m\u001b[1minput_line_17:8:34: \u001b[0m\u001b[0;1;31merror: \u001b[0m\u001b[1mtype 'vector<int>' does not provide a subscript operator\u001b[0m\n",
      "            dp[i] = std::max(nums[i], dp[i-1]+nums[i]);  // 递推公式：dp[i] 分两种情况：1) nums[i] 是 dp[i-1] 最大子序列的一...\n",
      "\u001b[0;1;32m                             ~~~~^~\n",
      "\u001b[0m\u001b[1minput_line_17:8:41: \u001b[0m\u001b[0;1;31merror: \u001b[0m\u001b[1mtype 'vector<int>' does not provide a subscript operator\u001b[0m\n",
      "            dp[i] = std::max(nums[i], dp[i-1]+nums[i]);  // 递推公式：dp[i] 分两种情况：1) nums[i] 是 dp[i-1] 最大子序列的一...\n",
      "\u001b[0;1;32m                                      ~~^~~~\n",
      "\u001b[0m\u001b[1minput_line_17:8:51: \u001b[0m\u001b[0;1;31merror: \u001b[0m\u001b[1mtype 'vector<int>' does not provide a subscript operator\u001b[0m\n",
      "            dp[i] = std::max(nums[i], dp[i-1]+nums[i]);  // 递推公式：dp[i] 分两种情况：1) nums[i] 是 dp[i-1] 最大子序列的一...\n",
      "\u001b[0;1;32m                                              ~~~~^~\n",
      "\u001b[0m\u001b[1minput_line_17:9:35: \u001b[0m\u001b[0;1;31merror: \u001b[0m\u001b[1mtype 'vector<int>' does not provide a subscript operator\u001b[0m\n",
      "            res = std::max(res, dp[i]);  // 记录最大值\n",
      "\u001b[0;1;32m                                ~~^~\n",
      "\u001b[0m"
     ]
    },
    {
     "ename": "Interpreter Error",
     "evalue": "",
     "output_type": "error",
     "traceback": [
      "Interpreter Error: "
     ]
    }
   ],
   "source": [
    "class Solution {\n",
    "public:\n",
    "    int maxSubArray(vector<int>& nums) {\n",
    "        vector<int> dp(nums.size(), 0);  // 表示以 i 结尾的最大子序列和\n",
    "        dp[0] = nums[0];\n",
    "        int res = nums[0];\n",
    "        for (int i=1;i<nums.size();++i) {\n",
    "            dp[i] = std::max(nums[i], dp[i-1]+nums[i]);  // 递推公式：dp[i] 分两种情况：1) nums[i] 是 dp[i-1] 最大子序列的一部分；2) nums[i] 是新的开始\n",
    "            res = std::max(res, dp[i]);  // 记录最大值\n",
    "        }\n",
    "        return res;\n",
    "    }\n",
    "};\n"
   ]
  }
 ],
 "metadata": {
  "kernelspec": {
   "display_name": "C++14",
   "language": "C++14",
   "name": "xcpp14"
  },
  "language_info": {
   "codemirror_mode": "text/x-c++src",
   "file_extension": ".cpp",
   "mimetype": "text/x-c++src",
   "name": "c++",
   "version": "14"
  }
 },
 "nbformat": 4,
 "nbformat_minor": 4
}

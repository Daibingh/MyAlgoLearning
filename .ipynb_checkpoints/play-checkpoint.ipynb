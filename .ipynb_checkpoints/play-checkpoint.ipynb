{
 "cells": [
  {
   "cell_type": "code",
   "execution_count": 17,
   "metadata": {},
   "outputs": [],
   "source": [
    "import re\n",
    "\n",
    "file = \"E:/IDM Download/ref.bib\""
   ]
  },
  {
   "cell_type": "code",
   "execution_count": 18,
   "metadata": {},
   "outputs": [],
   "source": [
    "text = open(file, 'r', encoding='utf-8').read()\n",
    "ret = re.findall(r'Title = {(.*?)}', text)"
   ]
  },
  {
   "cell_type": "code",
   "execution_count": 24,
   "metadata": {},
   "outputs": [
    {
     "data": {
      "text/plain": [
       "['BLEU: a method for automatic evaluation of machine translation',\n",
       " 'Sequence Level Training with Recurrent Neural Networks',\n",
       " 'Distributed Representations of Words and Phrases and their Compositionality',\n",
       " 'Parallelizing Linear Recurrent Neural Nets Over Sequence Length',\n",
       " 'Deep Residual Learning for Image Recognition',\n",
       " 'METEOR: An automatic metric for MT evaluation with improved correlation with human judgments',\n",
       " 'Rouge: A package for automatic evaluation of summaries',\n",
       " 'Reinforcement learning: An introduction',\n",
       " 'Cider: Consensus-based image description evaluation',\n",
       " 'Long short-term memory',\n",
       " 'Very Deep Convolutional Networks for Large-Scale Image Recognition',\n",
       " 'Attention is all you need',\n",
       " 'Adam: A Method for Stochastic Optimization',\n",
       " 'Generative adversarial nets',\n",
       " 'What Value Do Explicit High Level Concepts Have in Vision to Language Problems?',\n",
       " 'Densely connected convolutional networks',\n",
       " 'Convolutional networks for images, speech, and time series',\n",
       " 'Finding structure in time',\n",
       " 'ImageNet classification with deep convolutional neural networks',\n",
       " 'Going deeper with convolutions',\n",
       " '神经网络与深度学习']"
      ]
     },
     "execution_count": 24,
     "metadata": {},
     "output_type": "execute_result"
    }
   ],
   "source": [
    "open(file, 'w', encoding='utf-8')"
   ]
  }
 ],
 "metadata": {
  "kernelspec": {
   "display_name": "Python 3",
   "language": "python",
   "name": "python3"
  },
  "language_info": {
   "codemirror_mode": {
    "name": "ipython",
    "version": 3
   },
   "file_extension": ".py",
   "mimetype": "text/x-python",
   "name": "python",
   "nbconvert_exporter": "python",
   "pygments_lexer": "ipython3",
   "version": "3.6.4"
  }
 },
 "nbformat": 4,
 "nbformat_minor": 4
}

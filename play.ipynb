{
 "cells": [
  {
   "cell_type": "code",
   "execution_count": 3,
   "metadata": {},
   "outputs": [
    {
     "name": "stdout",
     "output_type": "stream",
     "text": [
      "89g9Rp_a\n"
     ]
    }
   ],
   "source": [
    "import re\n",
    "\n",
    "file = \"E:/IDM Download/ref.bib\"\n",
    "file2 = \"E:/IDM Download/ref.txt\"\n",
    "\n",
    "import numpy as np\n",
    "import time\n",
    "\n",
    "def gen_psw(leng=8):\n",
    "    np.random.seed(int(time.time()))\n",
    "    num = [str(t) for t in range(10)]\n",
    "    sign = ['.', '$', \"#\", '@' ,'!', '^', '&', '_', '%', '~']\n",
    "    low = [chr(i) for i in range(97,123)]\n",
    "    upr = [chr(i) for i in range(65,91)]\n",
    "    res = []\n",
    "    res += np.random.choice(num, np.random.randint(1, leng-2, 1).item()).tolist()\n",
    "    res += np.random.choice(low, np.random.randint(1, leng-len(res)-1, 1).item()).tolist()\n",
    "    res += np.random.choice(upr, np.random.randint(1, leng-len(res), 1).item()).tolist()\n",
    "    res += np.random.choice(sign, leng-len(res)).tolist()\n",
    "    np.random.shuffle(res)\n",
    "    return \"\".join(res)\n",
    "\n",
    "print(gen_psw())"
   ]
  },
  {
   "cell_type": "code",
   "execution_count": 41,
   "metadata": {},
   "outputs": [
    {
     "data": {
      "text/plain": [
       "582"
      ]
     },
     "execution_count": 41,
     "metadata": {},
     "output_type": "execute_result"
    }
   ],
   "source": [
    "text = open(file, 'r', encoding='utf-8').read()\n",
    "ret = re.findall(r'Title = {(.*?)}', text)\n",
    "open(file2, 'w', encoding='utf-8').write('\\n'.join(ret))"
   ]
  }
 ],
 "metadata": {
  "kernelspec": {
   "display_name": "Python 3",
   "language": "python",
   "name": "python3"
  },
  "language_info": {
   "codemirror_mode": {
    "name": "ipython",
    "version": 3
   },
   "file_extension": ".py",
   "mimetype": "text/x-python",
   "name": "python",
   "nbconvert_exporter": "python",
   "pygments_lexer": "ipython3",
   "version": "3.6.4"
  }
 },
 "nbformat": 4,
 "nbformat_minor": 4
}

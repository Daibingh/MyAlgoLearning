{
 "cells": [
  {
   "cell_type": "markdown",
   "metadata": {
    "toc-hr-collapsed": false
   },
   "source": [
    "# 相关理论"
   ]
  },
  {
   "cell_type": "markdown",
   "metadata": {},
   "source": [
    "- [推导 | SVM详解（1）SVM基本型 知乎](https://zhuanlan.zhihu.com/p/35755150)\n",
    "- [【机器学习面试总结】—— SVM 知乎](https://zhuanlan.zhihu.com/p/93715996)\n",
    "- [机器学习--手推SVM以及KKT条件](https://zhuanlan.zhihu.com/p/45444502)\n",
    "- [李航统计学习SVM笔记 github](https://github.com/fengdu78/lihang-code/blob/master/%E7%AC%AC07%E7%AB%A0%20%E6%94%AF%E6%8C%81%E5%90%91%E9%87%8F%E6%9C%BA/7.support-vector-machine.ipynb)"
   ]
  },
  {
   "cell_type": "markdown",
   "metadata": {},
   "source": [
    "## 特点与应用场景\n",
    "\n",
    "- 小样本效果好，不容易过拟合\n",
    "- 最大间隔，分类结果鲁棒性强\n",
    "- 理论完备\n",
    "\n",
    "---\n",
    "\n",
    "- 不适用与大数据，优化求解慢，SVC函数的训练时间是随训练样本平方级增长，所以不适合超过10000的样本。\n",
    "- 非线性分类依效果赖于核函数的选择\n",
    "- 对数据缺失敏感，就是说缺失数据补全后对于**用到距离概念**的模型影响会比较大，比如 KNN, SVM\n",
    "\n"
   ]
  },
  {
   "cell_type": "code",
   "execution_count": null,
   "metadata": {},
   "outputs": [],
   "source": []
  }
 ],
 "metadata": {
  "kernelspec": {
   "display_name": "Python 3",
   "language": "python",
   "name": "python3"
  },
  "language_info": {
   "codemirror_mode": {
    "name": "ipython",
    "version": 3
   },
   "file_extension": ".py",
   "mimetype": "text/x-python",
   "name": "python",
   "nbconvert_exporter": "python",
   "pygments_lexer": "ipython3",
   "version": "3.6.4"
  }
 },
 "nbformat": 4,
 "nbformat_minor": 4
}
